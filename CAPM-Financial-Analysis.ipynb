{
 "cells": [
  {
   "cell_type": "code",
   "execution_count": 5,
   "id": "cae89dce",
   "metadata": {},
   "outputs": [],
   "source": [
    "#import relevant libraries\n",
    "#conda install -c conda-forge yfinance\n",
    "import yfinance as yf\n",
    "import pandas as pd\n",
    "#conda install -c conda-forge matplotlib\n",
    "import matplotlib.pyplot as plt\n",
    "#conda install -c anaconda numpy\n",
    "import numpy as np\n",
    "#conda install -c anaconda seaborn\n",
    "import seaborn as sns\n",
    "#conda install -c anaconda scipy\n",
    "from scipy import stats\n",
    "#conda install -c plotly plotly\n",
    "import plotly.express as px\n",
    "import plotly.figure_factory as ff\n",
    "import plotly.graph_objects as go"
   ]
  },
  {
   "cell_type": "code",
   "execution_count": null,
   "id": "b9f2886e",
   "metadata": {},
   "outputs": [],
   "source": []
  }
 ],
 "metadata": {
  "kernelspec": {
   "display_name": "Python [conda env:yahooFinanceAPI]",
   "language": "python",
   "name": "conda-env-yahooFinanceAPI-py"
  },
  "language_info": {
   "codemirror_mode": {
    "name": "ipython",
    "version": 3
   },
   "file_extension": ".py",
   "mimetype": "text/x-python",
   "name": "python",
   "nbconvert_exporter": "python",
   "pygments_lexer": "ipython3",
   "version": "3.11.3"
  }
 },
 "nbformat": 4,
 "nbformat_minor": 5
}
